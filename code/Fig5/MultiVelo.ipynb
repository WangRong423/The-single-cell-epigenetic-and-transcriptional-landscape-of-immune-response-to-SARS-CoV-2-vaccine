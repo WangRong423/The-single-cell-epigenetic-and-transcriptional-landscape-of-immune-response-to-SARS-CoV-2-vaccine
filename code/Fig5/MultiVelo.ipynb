{
 "cells": [
  {
   "cell_type": "code",
   "execution_count": 2,
   "id": "e5e9e694",
   "metadata": {
    "scrolled": true
   },
   "outputs": [],
   "source": [
    "import numpy as np\n",
    "import pandas as pd\n",
    "import scanpy as sc\n",
    "import scvelo as scv\n",
    "import multivelo as mv\n",
    "import matplotlib.pyplot as plt\n"
   ]
  },
  {
   "cell_type": "code",
   "execution_count": 1,
   "id": "d62313e2",
   "metadata": {},
   "outputs": [
    {
     "name": "stdout",
     "output_type": "stream",
     "text": [
      "Looking in indexes: http://pypi.douban.com/simple\n",
      "\u001b[33mWARNING: Retrying (Retry(total=4, connect=None, read=None, redirect=None, status=None)) after connection broken by 'NewConnectionError('<urllib3.connection.HTTPConnection object at 0x7f04a54886d0>: Failed to establish a new connection: [Errno -3] Temporary failure in name resolution')': /simple/scanpy/\u001b[0m\n",
      "\u001b[33mWARNING: Retrying (Retry(total=3, connect=None, read=None, redirect=None, status=None)) after connection broken by 'NewConnectionError('<urllib3.connection.HTTPConnection object at 0x7f04a5488610>: Failed to establish a new connection: [Errno -3] Temporary failure in name resolution')': /simple/scanpy/\u001b[0m\n",
      "\u001b[33mWARNING: Retrying (Retry(total=2, connect=None, read=None, redirect=None, status=None)) after connection broken by 'NewConnectionError('<urllib3.connection.HTTPConnection object at 0x7f04a54882e0>: Failed to establish a new connection: [Errno -3] Temporary failure in name resolution')': /simple/scanpy/\u001b[0m\n",
      "\u001b[33mWARNING: Retrying (Retry(total=1, connect=None, read=None, redirect=None, status=None)) after connection broken by 'NewConnectionError('<urllib3.connection.HTTPConnection object at 0x7f04a54880d0>: Failed to establish a new connection: [Errno -3] Temporary failure in name resolution')': /simple/scanpy/\u001b[0m\n",
      "\u001b[33mWARNING: Retrying (Retry(total=0, connect=None, read=None, redirect=None, status=None)) after connection broken by 'NewConnectionError('<urllib3.connection.HTTPConnection object at 0x7f04a5488f10>: Failed to establish a new connection: [Errno -3] Temporary failure in name resolution')': /simple/scanpy/\u001b[0m\n",
      "\u001b[31mERROR: Could not find a version that satisfies the requirement scanpy (from versions: none)\u001b[0m\n",
      "\u001b[31mERROR: No matching distribution found for scanpy\u001b[0m\n"
     ]
    }
   ],
   "source": [
    "! pip install scanpy\n"
   ]
  },
  {
   "cell_type": "code",
   "execution_count": 2,
   "id": "7bd46441",
   "metadata": {},
   "outputs": [
    {
     "ename": "NameError",
     "evalue": "name 'np' is not defined",
     "output_type": "error",
     "traceback": [
      "\u001b[0;31m---------------------------------------------------------------------------\u001b[0m",
      "\u001b[0;31mNameError\u001b[0m                                 Traceback (most recent call last)",
      "Input \u001b[0;32mIn [2]\u001b[0m, in \u001b[0;36m<cell line: 1>\u001b[0;34m()\u001b[0m\n\u001b[0;32m----> 1\u001b[0m x \u001b[38;5;241m=\u001b[39m \u001b[43mnp\u001b[49m\u001b[38;5;241m.\u001b[39marange(\u001b[38;5;241m10\u001b[39m)\n\u001b[1;32m      2\u001b[0m y \u001b[38;5;241m=\u001b[39m x\n\u001b[1;32m      3\u001b[0m plt\u001b[38;5;241m.\u001b[39mplot(x,y)\n",
      "\u001b[0;31mNameError\u001b[0m: name 'np' is not defined"
     ]
    }
   ],
   "source": [
    "x = np.arange(10)\n",
    "y = x\n",
    "plt.plot(x,y)"
   ]
  },
  {
   "cell_type": "code",
   "execution_count": 3,
   "id": "8f736fd1",
   "metadata": {},
   "outputs": [],
   "source": [
    "import numpy as np\n"
   ]
  },
  {
   "cell_type": "code",
   "execution_count": 4,
   "id": "4d09a0f1",
   "metadata": {},
   "outputs": [
    {
     "ename": "NameError",
     "evalue": "name 'plt' is not defined",
     "output_type": "error",
     "traceback": [
      "\u001b[0;31m---------------------------------------------------------------------------\u001b[0m",
      "\u001b[0;31mNameError\u001b[0m                                 Traceback (most recent call last)",
      "Input \u001b[0;32mIn [4]\u001b[0m, in \u001b[0;36m<cell line: 3>\u001b[0;34m()\u001b[0m\n\u001b[1;32m      1\u001b[0m x \u001b[38;5;241m=\u001b[39m np\u001b[38;5;241m.\u001b[39marange(\u001b[38;5;241m10\u001b[39m)\n\u001b[1;32m      2\u001b[0m y \u001b[38;5;241m=\u001b[39m x\n\u001b[0;32m----> 3\u001b[0m \u001b[43mplt\u001b[49m\u001b[38;5;241m.\u001b[39mplot(x,y)\n",
      "\u001b[0;31mNameError\u001b[0m: name 'plt' is not defined"
     ]
    }
   ],
   "source": [
    "x = np.arange(10)\n",
    "y = x\n",
    "plt.plot(x,y)\n"
   ]
  },
  {
   "cell_type": "code",
   "execution_count": 5,
   "id": "01d18d27",
   "metadata": {},
   "outputs": [],
   "source": [
    "import matplotlib.pyplot as plt\n",
    "import numpy as np"
   ]
  },
  {
   "cell_type": "code",
   "execution_count": 6,
   "id": "8a1313f8",
   "metadata": {},
   "outputs": [
    {
     "data": {
      "text/plain": [
       "[<matplotlib.lines.Line2D at 0x7ff76d7ca610>]"
      ]
     },
     "execution_count": 6,
     "metadata": {},
     "output_type": "execute_result"
    },
    {
     "data": {
      "image/png": "[encoded data removed]",
      "text/plain": [
       "<Figure size 432x288 with 1 Axes>"
      ]
     },
     "metadata": {
      "needs_background": "light"
     },
     "output_type": "display_data"
    }
   ],
   "source": [
    "x = np.arange(10)\n",
    "y = x\n",
    "plt.plot(x,y)\n"
   ]
  },
  {
   "cell_type": "code",
   "execution_count": 7,
   "id": "c35d374d",
   "metadata": {},
   "outputs": [
    {
     "ename": "ModuleNotFoundError",
     "evalue": "No module named 'multivelo'",
     "output_type": "error",
     "traceback": [
      "\u001b[0;31m---------------------------------------------------------------------------\u001b[0m",
      "\u001b[0;31mModuleNotFoundError\u001b[0m                       Traceback (most recent call last)",
      "Input \u001b[0;32mIn [7]\u001b[0m, in \u001b[0;36m<cell line: 1>\u001b[0;34m()\u001b[0m\n\u001b[0;32m----> 1\u001b[0m \u001b[38;5;28;01mimport\u001b[39;00m \u001b[38;5;21;01mmultivelo\u001b[39;00m \u001b[38;5;28;01mas\u001b[39;00m \u001b[38;5;21;01mmv\u001b[39;00m\n\u001b[1;32m      2\u001b[0m \u001b[38;5;28;01mimport\u001b[39;00m \u001b[38;5;21;01mmatplotlib\u001b[39;00m\u001b[38;5;21;01m.\u001b[39;00m\u001b[38;5;21;01mpyplot\u001b[39;00m \u001b[38;5;28;01mas\u001b[39;00m \u001b[38;5;21;01mplt\u001b[39;00m\n",
      "\u001b[0;31mModuleNotFoundError\u001b[0m: No module named 'multivelo'"
     ]
    }
   ],
   "source": [
    "import multivelo as mv\n",
    "import matplotlib.pyplot as plt\n",
    "\n"
   ]
  },
  {
   "cell_type": "code",
   "execution_count": 1,
   "id": "329139f5",
   "metadata": {},
   "outputs": [],
   "source": [
    "import sys\n"
   ]
  },
  {
   "cell_type": "code",
   "execution_count": 2,
   "id": "7ef0fe1f",
   "metadata": {},
   "outputs": [
    {
     "name": "stdout",
     "output_type": "stream",
     "text": [
      "3.8.10 (default, Mar 15 2022, 12:22:08) \n",
      "[GCC 9.4.0]\n",
      "/usr/bin/python3\n"
     ]
    }
   ],
   "source": [
    "print(sys.version)\n",
    "print(sys.executable)"
   ]
  },
  {
   "cell_type": "code",
   "execution_count": 3,
   "id": "273c9254",
   "metadata": {},
   "outputs": [
    {
     "ename": "ModuleNotFoundError",
     "evalue": "No module named 'scanpy'",
     "output_type": "error",
     "traceback": [
      "\u001b[0;31m---------------------------------------------------------------------------\u001b[0m",
      "\u001b[0;31mModuleNotFoundError\u001b[0m                       Traceback (most recent call last)",
      "Input \u001b[0;32mIn [3]\u001b[0m, in \u001b[0;36m<cell line: 1>\u001b[0;34m()\u001b[0m\n\u001b[0;32m----> 1\u001b[0m \u001b[38;5;28;01mimport\u001b[39;00m \u001b[38;5;21;01mscanpy\u001b[39;00m \u001b[38;5;28;01mas\u001b[39;00m \u001b[38;5;21;01msc\u001b[39;00m\n",
      "\u001b[0;31mModuleNotFoundError\u001b[0m: No module named 'scanpy'"
     ]
    }
   ],
   "source": [
    "import scanpy as sc"
   ]
  },
  {
   "cell_type": "code",
   "execution_count": 5,
   "id": "e97a1dd0",
   "metadata": {},
   "outputs": [
    {
     "name": "stdout",
     "output_type": "stream",
     "text": [
      "Looking in indexes: http://pypi.douban.com/simple\n",
      "Collecting scanpy\n",
      "  Downloading http://pypi.doubanio.com/packages/51/87/a55c7992cba9b189de70eae37e9f1e2abe6fdaf3f087d30356f28698948e/scanpy-1.9.1-py3-none-any.whl (2.0 MB)\n",
      "\u001b[K     |████████████████████████████████| 2.0 MB 902 kB/s eta 0:00:01\n",
      "\u001b[?25hCollecting matplotlib>=3.4\n",
      "  Downloading http://pypi.doubanio.com/packages/a7/57/c9b314e3c1fe451017e62b9d485c107db1f7b4fed70dc2e13c7acdc57137/matplotlib-3.5.3-cp38-cp38-manylinux_2_5_x86_64.manylinux1_x86_64.whl (11.3 MB)\n",
      "\u001b[K     |████████████████████████████████| 11.3 MB 1.2 MB/s eta 0:00:01\n",
      "\u001b[?25hCollecting scipy>=1.4\n",
      "  Downloading http://pypi.doubanio.com/packages/f7/38/f5fad7b9a50a26a6a709549f815db7026a97d1a5652e548d5bbe587bb954/scipy-1.9.0-cp38-cp38-manylinux_2_17_x86_64.manylinux2014_x86_64.whl (43.4 MB)\n",
      "\u001b[K     |████████████████████████████████| 43.4 MB 1.1 MB/s eta 0:00:01\n",
      "\u001b[?25hCollecting statsmodels>=0.10.0rc2\n",
      "  Downloading http://pypi.doubanio.com/packages/9e/35/12b950eba46d6648b0d6e2e895ab0a3821f185e53a9568b86ded87f4efac/statsmodels-0.13.2-cp38-cp38-manylinux_2_17_x86_64.manylinux2014_x86_64.whl (9.9 MB)\n",
      "\u001b[K     |████████████████████████████████| 9.9 MB 858 kB/s eta 0:00:01\n",
      "\u001b[?25hCollecting h5py>=3\n",
      "  Downloading http://pypi.doubanio.com/packages/4b/ad/67136179798bef7f49eebac34024f9dc3052f4c4a5d1372fcfd5dd9aca5f/h5py-3.7.0-cp38-cp38-manylinux_2_12_x86_64.manylinux2010_x86_64.whl (4.5 MB)\n",
      "\u001b[K     |████████████████████████████████| 4.5 MB 819 kB/s eta 0:00:01\n",
      "\u001b[?25hCollecting umap-learn>=0.3.10\n",
      "  Downloading http://pypi.doubanio.com/packages/e1/eb/dca6cfd872e8542fb57dd56ff2d5d67baed270aee6db739c6414d8d5b3b5/umap-learn-0.5.3.tar.gz (88 kB)\n",
      "\u001b[K     |████████████████████████████████| 88 kB 1.6 MB/s eta 0:00:011\n",
      "\u001b[?25hCollecting session-info\n",
      "  Downloading http://pypi.doubanio.com/packages/94/e4/ea615bb8185a298b21df1ac52a4a5db4e3351823a218f47ef3f883def88c/session_info-1.0.0.tar.gz (24 kB)\n",
      "Collecting pandas>=1.0\n",
      "  Downloading http://pypi.doubanio.com/packages/d1/55/18b00a5426ad8a89944ab93b6b29773a556dc06af8b53a29031f861009e3/pandas-1.4.3-cp38-cp38-manylinux_2_17_x86_64.manylinux2014_x86_64.whl (11.7 MB)\n",
      "\u001b[K     |████████████████████████████████| 11.7 MB 1.2 MB/s eta 0:00:01\n",
      "\u001b[?25hRequirement already satisfied: seaborn in /usr/lib/python3/dist-packages (from scanpy) (0.10.0)\n",
      "Collecting scikit-learn>=0.22\n",
      "  Downloading http://pypi.doubanio.com/packages/91/d1/50eb92222e8b2f315ec5499b97a926d271305e19e254fdced4db899647d6/scikit_learn-1.1.2-cp38-cp38-manylinux_2_17_x86_64.manylinux2014_x86_64.whl (31.2 MB)\n",
      "\u001b[K     |████████████████████████████████| 31.2 MB 1.2 MB/s eta 0:00:01\n",
      "\u001b[?25hRequirement already satisfied: tqdm in /usr/local/lib/python3.8/dist-packages (from scanpy) (4.64.0)\n",
      "Collecting natsort\n",
      "  Downloading http://pypi.doubanio.com/packages/a9/76/0f624b7326f4458a249580c55e5654756084ec4572ce37a05f799b96bc24/natsort-8.1.0-py3-none-any.whl (37 kB)\n",
      "Requirement already satisfied: numpy>=1.17.0 in /usr/lib/python3/dist-packages (from scanpy) (1.17.4)\n",
      "Collecting networkx>=2.3\n",
      "  Downloading http://pypi.doubanio.com/packages/be/25/5b0fc262a2f2d7d11c22cb7785edf2befc756ae076b383034e79e255eb11/networkx-2.8.6-py3-none-any.whl (2.0 MB)\n",
      "\u001b[K     |████████████████████████████████| 2.0 MB 729 kB/s eta 0:00:01\n",
      "\u001b[?25hCollecting joblib\n",
      "  Downloading http://pypi.doubanio.com/packages/3e/d5/0163eb0cfa0b673aa4fe1cd3ea9d8a81ea0f32e50807b0c295871e4aab2e/joblib-1.1.0-py2.py3-none-any.whl (306 kB)\n",
      "\u001b[K     |████████████████████████████████| 306 kB 741 kB/s eta 0:00:01\n",
      "\u001b[?25hCollecting numba>=0.41.0\n",
      "  Downloading http://pypi.doubanio.com/packages/0e/ce/f346ff0788b9bb2871c481a9ba7298e4a96cb7038a608f0e96d1d2ef8b78/numba-0.56.0-cp38-cp38-manylinux2014_x86_64.manylinux_2_17_x86_64.whl (3.5 MB)\n",
      "\u001b[K     |████████████████████████████████| 3.5 MB 1.1 MB/s eta 0:00:01\n",
      "\u001b[?25hRequirement already satisfied: packaging in /usr/local/lib/python3.8/dist-packages (from scanpy) (21.3)\n",
      "Collecting anndata>=0.7.4\n",
      "  Downloading http://pypi.doubanio.com/packages/46/7f/ffe1546142d98ed55e7bb70eaedad92861d8e2ab07398ef7f06f4f46d06d/anndata-0.8.0-py3-none-any.whl (96 kB)\n",
      "\u001b[K     |████████████████████████████████| 96 kB 607 kB/s eta 0:00:01\n",
      "\u001b[?25hRequirement already satisfied: patsy in /usr/lib/python3/dist-packages (from scanpy) (0.5.1)\n",
      "Requirement already satisfied: kiwisolver>=1.0.1 in /usr/lib/python3/dist-packages (from matplotlib>=3.4->scanpy) (1.0.1)\n",
      "Requirement already satisfied: cycler>=0.10 in /usr/lib/python3/dist-packages (from matplotlib>=3.4->scanpy) (0.10.0)\n",
      "Collecting fonttools>=4.22.0\n",
      "  Downloading http://pypi.doubanio.com/packages/99/e2/90421047dfd94ed78064b41345d63985c576dc98b7c87bec92a1a8cb88e5/fonttools-4.37.1-py3-none-any.whl (957 kB)\n",
      "\u001b[K     |████████████████████████████████| 957 kB 2.0 MB/s eta 0:00:01\n",
      "\u001b[?25hRequirement already satisfied: pyparsing>=2.2.1 in /usr/local/lib/python3.8/dist-packages (from matplotlib>=3.4->scanpy) (3.0.9)\n",
      "Requirement already satisfied: python-dateutil>=2.7 in /usr/local/lib/python3.8/dist-packages (from matplotlib>=3.4->scanpy) (2.8.2)\n",
      "Requirement already satisfied: pillow>=6.2.0 in /usr/lib/python3/dist-packages (from matplotlib>=3.4->scanpy) (7.0.0)\n",
      "Collecting pynndescent>=0.5\n",
      "  Downloading http://pypi.doubanio.com/packages/fa/bd/aa2c2f52e2152d99ddce9233b1260903094fec7db17600104058da439f05/pynndescent-0.5.7.tar.gz (1.1 MB)\n",
      "\u001b[K     |████████████████████████████████| 1.1 MB 1.1 MB/s eta 0:00:01\n",
      "\u001b[?25hCollecting stdlib_list\n",
      "  Downloading http://pypi.doubanio.com/packages/7a/b1/52f59dcf31ead2f0ceff8976288449608d912972b911f55dff712cef5719/stdlib_list-0.8.0-py3-none-any.whl (63 kB)\n",
      "\u001b[K     |████████████████████████████████| 63 kB 904 kB/s eta 0:00:01\n",
      "\u001b[?25hCollecting pytz>=2020.1\n",
      "  Downloading http://pypi.doubanio.com/packages/d5/50/54451e88e3da4616286029a3a17fc377de817f66a0f50e1faaee90161724/pytz-2022.2.1-py2.py3-none-any.whl (500 kB)\n",
      "\u001b[K     |████████████████████████████████| 500 kB 1.1 MB/s eta 0:00:01\n",
      "\u001b[?25hCollecting threadpoolctl>=2.0.0\n",
      "  Downloading http://pypi.doubanio.com/packages/61/cf/6e354304bcb9c6413c4e02a747b600061c21d38ba51e7e544ac7bc66aecc/threadpoolctl-3.1.0-py3-none-any.whl (14 kB)\n",
      "Collecting llvmlite<0.40,>=0.39.0dev0\n",
      "  Downloading http://pypi.doubanio.com/packages/db/fc/827b189ec41e0b8619584ac85f7eb9c3b5ee09fedbc38dd5960a8cfdfefe/llvmlite-0.39.0-cp38-cp38-manylinux_2_17_x86_64.manylinux2014_x86_64.whl (34.6 MB)\n",
      "\u001b[K     |████████████████████████████████| 34.6 MB 2.2 MB/s eta 0:00:01\n",
      "\u001b[?25hRequirement already satisfied: setuptools in /usr/lib/python3/dist-packages (from numba>=0.41.0->scanpy) (45.2.0)\n",
      "Requirement already satisfied: importlib-metadata; python_version < \"3.9\" in /usr/lib/python3/dist-packages (from numba>=0.41.0->scanpy) (1.5.0)\n",
      "Requirement already satisfied: six>=1.5 in /usr/lib/python3/dist-packages (from python-dateutil>=2.7->matplotlib>=3.4->scanpy) (1.14.0)\n",
      "Building wheels for collected packages: umap-learn, session-info, pynndescent\n",
      "  Building wheel for umap-learn (setup.py) ... \u001b[?25ldone\n",
      "\u001b[?25h  Created wheel for umap-learn: filename=umap_learn-0.5.3-py3-none-any.whl size=82819 sha256=a4e66de1441342c8fb1bfbb6c5b7b2e8598a7444f5a71a6578642b5589e9a84d\n",
      "  Stored in directory: /root/.cache/pip/wheels/ab/fd/fe/14b06c98708653e5fb778422dc1be0cf94bb9b2d636c233b0d\n",
      "  Building wheel for session-info (setup.py) ... \u001b[?25ldone\n",
      "\u001b[?25h  Created wheel for session-info: filename=session_info-1.0.0-py3-none-any.whl size=8045 sha256=e91b4e23454ff36567e448744fc45c02408449807c3dcc77ccf2e6f985037d17\n",
      "  Stored in directory: /root/.cache/pip/wheels/65/a0/a2/33cbf12fdacb8188a49249dc5107104e3e49608b33265f3300\n",
      "  Building wheel for pynndescent (setup.py) ... \u001b[?25ldone\n",
      "\u001b[?25h  Created wheel for pynndescent: filename=pynndescent-0.5.7-py3-none-any.whl size=54271 sha256=fcca02c60e5f7ff71d477c4f777127df52d459e4dfaee0ad8fe4ffcedcc9f52f\n",
      "  Stored in directory: /root/.cache/pip/wheels/6f/e5/13/c8de85bb74dd34afddec3e5b5ab5d4fa6db62711e3d8396f42\n",
      "Successfully built umap-learn session-info pynndescent\n",
      "\u001b[31mERROR: scipy 1.9.0 has requirement numpy<1.25.0,>=1.18.5, but you'll have numpy 1.17.4 which is incompatible.\u001b[0m\n",
      "\u001b[31mERROR: pandas 1.4.3 has requirement numpy>=1.18.5; platform_machine != \"aarch64\" and platform_machine != \"arm64\" and python_version < \"3.10\", but you'll have numpy 1.17.4 which is incompatible.\u001b[0m\n",
      "\u001b[31mERROR: statsmodels 0.13.2 has requirement patsy>=0.5.2, but you'll have patsy 0.5.1 which is incompatible.\u001b[0m\n",
      "\u001b[31mERROR: numba 0.56.0 has requirement numpy<1.23,>=1.18, but you'll have numpy 1.17.4 which is incompatible.\u001b[0m\n",
      "Installing collected packages: fonttools, matplotlib, scipy, pytz, pandas, statsmodels, h5py, llvmlite, numba, joblib, threadpoolctl, scikit-learn, pynndescent, umap-learn, stdlib-list, session-info, natsort, networkx, anndata, scanpy\n"
     ]
    },
    {
     "name": "stdout",
     "output_type": "stream",
     "text": [
      "  Attempting uninstall: matplotlib\n",
      "    Found existing installation: matplotlib 3.1.2\n",
      "    Not uninstalling matplotlib at /usr/lib/python3/dist-packages, outside environment /usr\n",
      "    Can't uninstall 'matplotlib'. No files were found to uninstall.\n",
      "  Attempting uninstall: scipy\n",
      "    Found existing installation: scipy 1.3.3\n",
      "    Not uninstalling scipy at /usr/lib/python3/dist-packages, outside environment /usr\n",
      "    Can't uninstall 'scipy'. No files were found to uninstall.\n",
      "  Attempting uninstall: pytz\n",
      "    Found existing installation: pytz 2019.3\n",
      "    Not uninstalling pytz at /usr/lib/python3/dist-packages, outside environment /usr\n",
      "    Can't uninstall 'pytz'. No files were found to uninstall.\n",
      "  Attempting uninstall: pandas\n",
      "    Found existing installation: pandas 0.25.3\n",
      "    Not uninstalling pandas at /usr/lib/python3/dist-packages, outside environment /usr\n",
      "    Can't uninstall 'pandas'. No files were found to uninstall.\n",
      "Successfully installed anndata-0.8.0 fonttools-4.37.1 h5py-3.7.0 joblib-1.1.0 llvmlite-0.39.0 matplotlib-3.5.3 natsort-8.1.0 networkx-2.8.6 numba-0.56.0 pandas-1.4.3 pynndescent-0.5.7 pytz-2022.2.1 scanpy-1.9.1 scikit-learn-1.1.2 scipy-1.9.0 session-info-1.0.0 statsmodels-0.13.2 stdlib-list-0.8.0 threadpoolctl-3.1.0 umap-learn-0.5.3\n"
     ]
    }
   ],
   "source": [
    "sys.path\n",
    "!pip install scanpy"
   ]
  },
  {
   "cell_type": "code",
   "execution_count": 4,
   "id": "6da41a98",
   "metadata": {},
   "outputs": [],
   "source": [
    "import numpy as np\n"
   ]
  },
  {
   "cell_type": "code",
   "execution_count": 13,
   "id": "c92d54a8",
   "metadata": {},
   "outputs": [],
   "source": [
    "import numpy as np\n",
    "import pandas as pd\n",
    "import scanpy as sc\n",
    "import scvelo as scv\n",
    "import multivelo as mv\n",
    "import matplotlib.pyplot as plt\n",
    "scv.settings.verbosity = 3\n",
    "scv.settings.presenter_view = True\n",
    "scv.set_figure_params('scvelo')\n",
    "pd.set_option('display.max_columns', 100)\n",
    "pd.set_option('display.max_rows', 200)\n",
    "np.set_printoptions(suppress=True)\n",
    "\n"
   ]
  },
  {
   "cell_type": "code",
   "execution_count": 15,
   "id": "b39ee33b",
   "metadata": {},
   "outputs": [],
   "source": [
    "target = 'M1-1'\n",
    "atac_path = '/database/wangrong/Results/0712_ATAC+RNA/' + target + '/outs/filtered_feature_bc_matrix'\n",
    "atac_annot_path = '/database/wangrong/Results/0712_ATAC+RNA/' + target + '/outs/atac_peak_annotation.tsv'\n",
    "feature_linkage_path = '/database/wangrong/Results/0712_ATAC+RNA/' + target + '/outs/analysis/feature_linkage/feature_linkage.bedpe'\n",
    "loom_path = '/database/wangrong/Results/0712_ATAC+RNA/' + target + '/velocyto/' + target + '.loom'\n",
    "annot_path = '/database/wangrong/Results/0712_ATAC+RNA/HIPPO/lightHIPPO/sample_metadata.csv'"
   ]
  },
  {
   "cell_type": "code",
   "execution_count": 20,
   "id": "1b47e7c5",
   "metadata": {},
   "outputs": [
    {
     "name": "stdout",
     "output_type": "stream",
     "text": [
      "CellRanger ARC identified as 2.0.0\n",
      "Found 17543 genes with promoter peaks\n"
     ]
    },
    {
     "data": {
      "application/json": {
       "ascii": false,
       "bar_format": null,
       "colour": null,
       "elapsed": 0.011729001998901367,
       "initial": 0,
       "n": 0,
       "ncols": null,
       "nrows": null,
       "postfix": null,
       "prefix": "",
       "rate": null,
       "total": 17543,
       "unit": "it",
       "unit_divisor": 1000,
       "unit_scale": false
      },
      "application/vnd.jupyter.widget-view+json": {
       "model_id": "e1b42f27c9c44f298d17ac63eb01d0f9",
       "version_major": 2,
       "version_minor": 0
      },
      "text/plain": [
       "  0%|          | 0/17543 [00:00<?, ?it/s]"
      ]
     },
     "metadata": {},
     "output_type": "display_data"
    }
   ],
   "source": [
    "adata_atac_m1_1 = sc.read_10x_mtx(atac_path,\n",
    "                             var_names='gene_symbols',\n",
    "                             cache=True, gex_only=False)\n",
    "adata_atac_m1_1 = mv.aggregate_peaks_10x(adata_atac_m1_1,\n",
    "                                    atac_annot_path,\n",
    "                                    feature_linkage_path,\n",
    "                                    verbose=True)"
   ]
  },
  {
   "cell_type": "code",
   "execution_count": 22,
   "id": "69c14b00",
   "metadata": {},
   "outputs": [
    {
     "data": {
      "text/plain": [
       "View of AnnData object with n_obs × n_vars = 10275 × 17543"
      ]
     },
     "execution_count": 22,
     "metadata": {},
     "output_type": "execute_result"
    }
   ],
   "source": [
    "adata_atac_m1_1"
   ]
  },
  {
   "cell_type": "code",
   "execution_count": 25,
   "id": "ace257d7",
   "metadata": {},
   "outputs": [
    {
     "data": {
      "text/plain": [
       "AnnData object with n_obs × n_vars = 10275 × 36601\n",
       "    var: 'Accession', 'Chromosome', 'End', 'Start', 'Strand'\n",
       "    layers: 'ambiguous', 'matrix', 'spliced', 'unspliced'"
      ]
     },
     "execution_count": 25,
     "metadata": {},
     "output_type": "execute_result"
    }
   ],
   "source": [
    "adata_rna_m1_1 = scv.read(loom_path, cache=True)\n",
    "adata_rna_m1_1"
   ]
  },
  {
   "cell_type": "code",
   "execution_count": 27,
   "id": "7cd2c536",
   "metadata": {},
   "outputs": [],
   "source": [
    "target = 'M1-2'\n",
    "atac_path = '/database/wangrong/Results/0712_ATAC+RNA/' + target + '/outs/filtered_feature_bc_matrix'\n",
    "atac_annot_path = '/database/wangrong/Results/0712_ATAC+RNA/' + target + '/outs/atac_peak_annotation.tsv'\n",
    "feature_linkage_path = '/database/wangrong/Results/0712_ATAC+RNA/' + target + '/outs/analysis/feature_linkage/feature_linkage.bedpe'\n",
    "loom_path = '/database/wangrong/Results/0712_ATAC+RNA/' + target + '/velocyto/' + target + '.loom'"
   ]
  },
  {
   "cell_type": "code",
   "execution_count": 32,
   "id": "df98abcb",
   "metadata": {},
   "outputs": [
    {
     "name": "stdout",
     "output_type": "stream",
     "text": [
      "CellRanger ARC identified as 2.0.0\n",
      "Found 19234 genes with promoter peaks\n"
     ]
    },
    {
     "data": {
      "application/json": {
       "ascii": false,
       "bar_format": null,
       "colour": null,
       "elapsed": 0.011768102645874023,
       "initial": 0,
       "n": 0,
       "ncols": null,
       "nrows": null,
       "postfix": null,
       "prefix": "",
       "rate": null,
       "total": 19234,
       "unit": "it",
       "unit_divisor": 1000,
       "unit_scale": false
      },
      "application/vnd.jupyter.widget-view+json": {
       "model_id": "340c38212e0a467b998c6618c30eb1c8",
       "version_major": 2,
       "version_minor": 0
      },
      "text/plain": [
       "  0%|          | 0/19234 [00:00<?, ?it/s]"
      ]
     },
     "metadata": {},
     "output_type": "display_data"
    },
    {
     "data": {
      "text/plain": [
       "AnnData object with n_obs × n_vars = 15640 × 36601\n",
       "    var: 'Accession', 'Chromosome', 'End', 'Start', 'Strand'\n",
       "    layers: 'ambiguous', 'matrix', 'spliced', 'unspliced'"
      ]
     },
     "execution_count": 32,
     "metadata": {},
     "output_type": "execute_result"
    }
   ],
   "source": [
    "adata_atac_m1_2 = sc.read_10x_mtx(atac_path,\n",
    "                             var_names='gene_symbols',\n",
    "                             cache=True, gex_only=False)\n",
    "adata_atac_m1_2 = adata_atac_m1_2[:, adata_atac_m1_2.var['feature_types'] == \"Peaks\"]\n",
    "adata_atac_m1_2 = mv.aggregate_peaks_10x(adata_atac_m1_2,\n",
    "                                    atac_annot_path,\n",
    "                                    feature_linkage_path,\n",
    "                                    verbose=True)\n",
    "\n",
    "adata_rna_m1_2 = scv.read(loom_path, cache=True)\n",
    "adata_rna_m1_2"
   ]
  },
  {
   "cell_type": "code",
   "execution_count": 34,
   "id": "43190ea6",
   "metadata": {},
   "outputs": [
    {
     "data": {
      "text/plain": [
       "10275"
      ]
     },
     "execution_count": 34,
     "metadata": {},
     "output_type": "execute_result"
    }
   ],
   "source": [
    "adata_atac_m1_1.n_obs"
   ]
  },
  {
   "cell_type": "code",
   "execution_count": 36,
   "id": "089dc195",
   "metadata": {},
   "outputs": [
    {
     "data": {
      "text/html": [
       "<div>\n",
       "<style scoped>\n",
       "    .dataframe tbody tr th:only-of-type {\n",
       "        vertical-align: middle;\n",
       "    }\n",
       "\n",
       "    .dataframe tbody tr th {\n",
       "        vertical-align: top;\n",
       "    }\n",
       "\n",
       "    .dataframe thead th {\n",
       "        text-align: right;\n",
       "    }\n",
       "</style>\n",
       "<table border=\"1\" class=\"dataframe\">\n",
       "  <thead>\n",
       "    <tr style=\"text-align: right;\">\n",
       "      <th></th>\n",
       "    </tr>\n",
       "  </thead>\n",
       "  <tbody>\n",
       "    <tr>\n",
       "      <th>AAACAGCCAATTGACT-1</th>\n",
       "    </tr>\n",
       "    <tr>\n",
       "      <th>AAACAGCCAATTTAGC-1</th>\n",
       "    </tr>\n",
       "    <tr>\n",
       "      <th>AAACAGCCACGTAAGG-1</th>\n",
       "    </tr>\n",
       "    <tr>\n",
       "      <th>AAACATGCAAACTGTT-1</th>\n",
       "    </tr>\n",
       "    <tr>\n",
       "      <th>AAACATGCAATCTCTC-1</th>\n",
       "    </tr>\n",
       "  </tbody>\n",
       "</table>\n",
       "</div>"
      ],
      "text/plain": [
       "Empty DataFrame\n",
       "Columns: []\n",
       "Index: [AAACAGCCAATTGACT-1, AAACAGCCAATTTAGC-1, AAACAGCCACGTAAGG-1, AAACATGCAAACTGTT-1, AAACATGCAATCTCTC-1]"
      ]
     },
     "execution_count": 36,
     "metadata": {},
     "output_type": "execute_result"
    }
   ],
   "source": [
    "adata_atac_m1_1.obs.head()"
   ]
  },
  {
   "cell_type": "code",
   "execution_count": 38,
   "id": "5da2190f",
   "metadata": {},
   "outputs": [
    {
     "data": {
      "text/html": [
       "<div>\n",
       "<style scoped>\n",
       "    .dataframe tbody tr th:only-of-type {\n",
       "        vertical-align: middle;\n",
       "    }\n",
       "\n",
       "    .dataframe tbody tr th {\n",
       "        vertical-align: top;\n",
       "    }\n",
       "\n",
       "    .dataframe thead th {\n",
       "        text-align: right;\n",
       "    }\n",
       "</style>\n",
       "<table border=\"1\" class=\"dataframe\">\n",
       "  <thead>\n",
       "    <tr style=\"text-align: right;\">\n",
       "      <th></th>\n",
       "    </tr>\n",
       "    <tr>\n",
       "      <th>CellID</th>\n",
       "    </tr>\n",
       "  </thead>\n",
       "  <tbody>\n",
       "    <tr>\n",
       "      <th>M1-1:AAAGCGGGTGTTTCACx</th>\n",
       "    </tr>\n",
       "    <tr>\n",
       "      <th>M1-1:AAAGCCCGTGGGAACAx</th>\n",
       "    </tr>\n",
       "    <tr>\n",
       "      <th>M1-1:AAACCGCGTTCGGTAAx</th>\n",
       "    </tr>\n",
       "    <tr>\n",
       "      <th>M1-1:AAAGCACCACAGCCTGx</th>\n",
       "    </tr>\n",
       "    <tr>\n",
       "      <th>M1-1:AAAGCCGCAAATACCTx</th>\n",
       "    </tr>\n",
       "  </tbody>\n",
       "</table>\n",
       "</div>"
      ],
      "text/plain": [
       "Empty DataFrame\n",
       "Columns: []\n",
       "Index: [M1-1:AAAGCGGGTGTTTCACx, M1-1:AAAGCCCGTGGGAACAx, M1-1:AAACCGCGTTCGGTAAx, M1-1:AAAGCACCACAGCCTGx, M1-1:AAAGCCGCAAATACCTx]"
      ]
     },
     "execution_count": 38,
     "metadata": {},
     "output_type": "execute_result"
    }
   ],
   "source": [
    "adata_rna_m1_1.obs.head()"
   ]
  },
  {
   "cell_type": "code",
   "execution_count": 40,
   "id": "d825d922",
   "metadata": {},
   "outputs": [
    {
     "data": {
      "text/html": [
       "<div>\n",
       "<style scoped>\n",
       "    .dataframe tbody tr th:only-of-type {\n",
       "        vertical-align: middle;\n",
       "    }\n",
       "\n",
       "    .dataframe tbody tr th {\n",
       "        vertical-align: top;\n",
       "    }\n",
       "\n",
       "    .dataframe thead th {\n",
       "        text-align: right;\n",
       "    }\n",
       "</style>\n",
       "<table border=\"1\" class=\"dataframe\">\n",
       "  <thead>\n",
       "    <tr style=\"text-align: right;\">\n",
       "      <th></th>\n",
       "    </tr>\n",
       "    <tr>\n",
       "      <th>CellID</th>\n",
       "    </tr>\n",
       "  </thead>\n",
       "  <tbody>\n",
       "    <tr>\n",
       "      <th>M1-2:AAACATGCATGTTGTGx</th>\n",
       "    </tr>\n",
       "    <tr>\n",
       "      <th>M1-2:AAAGCAAGTAATAACCx</th>\n",
       "    </tr>\n",
       "    <tr>\n",
       "      <th>M1-2:AAACCGGCAAGTGTTTx</th>\n",
       "    </tr>\n",
       "    <tr>\n",
       "      <th>M1-2:AAACCAACAGGATAACx</th>\n",
       "    </tr>\n",
       "    <tr>\n",
       "      <th>M1-2:AAACGCGCAAATACCTx</th>\n",
       "    </tr>\n",
       "  </tbody>\n",
       "</table>\n",
       "</div>"
      ],
      "text/plain": [
       "Empty DataFrame\n",
       "Columns: []\n",
       "Index: [M1-2:AAACATGCATGTTGTGx, M1-2:AAAGCAAGTAATAACCx, M1-2:AAACCGGCAAGTGTTTx, M1-2:AAACCAACAGGATAACx, M1-2:AAACGCGCAAATACCTx]"
      ]
     },
     "execution_count": 40,
     "metadata": {},
     "output_type": "execute_result"
    }
   ],
   "source": [
    "adata_rna_m1_2.obs.head()"
   ]
  },
  {
   "cell_type": "code",
   "execution_count": 44,
   "id": "0417ebe0",
   "metadata": {},
   "outputs": [
    {
     "data": {
      "text/html": [
       "<div>\n",
       "<style scoped>\n",
       "    .dataframe tbody tr th:only-of-type {\n",
       "        vertical-align: middle;\n",
       "    }\n",
       "\n",
       "    .dataframe tbody tr th {\n",
       "        vertical-align: top;\n",
       "    }\n",
       "\n",
       "    .dataframe thead th {\n",
       "        text-align: right;\n",
       "    }\n",
       "</style>\n",
       "<table border=\"1\" class=\"dataframe\">\n",
       "  <thead>\n",
       "    <tr style=\"text-align: right;\">\n",
       "      <th></th>\n",
       "      <th>orig.ident</th>\n",
       "      <th>nCount_RNA</th>\n",
       "      <th>nFeature_RNA</th>\n",
       "      <th>percent.mt</th>\n",
       "      <th>RNA_snn_res.0.3</th>\n",
       "      <th>seurat_clusters</th>\n",
       "      <th>Dlabel</th>\n",
       "      <th>Timepoints</th>\n",
       "      <th>Participants</th>\n",
       "      <th>nCount_ATAC</th>\n",
       "      <th>nFeature_ATAC</th>\n",
       "      <th>nucleosome_signal</th>\n",
       "      <th>nucleosome_percentile</th>\n",
       "      <th>TSS.enrichment</th>\n",
       "      <th>TSS.percentile</th>\n",
       "      <th>n200</th>\n",
       "      <th>n200_k33</th>\n",
       "      <th>annotation</th>\n",
       "      <th>celltype</th>\n",
       "    </tr>\n",
       "  </thead>\n",
       "  <tbody>\n",
       "    <tr>\n",
       "      <th>M1-1_AAACAGCCAATTGACT-1</th>\n",
       "      <td>M1-1</td>\n",
       "      <td>2926</td>\n",
       "      <td>1528</td>\n",
       "      <td>7.997266</td>\n",
       "      <td>1</td>\n",
       "      <td>1</td>\n",
       "      <td>Singlet</td>\n",
       "      <td>Day0</td>\n",
       "      <td>P1</td>\n",
       "      <td>9763</td>\n",
       "      <td>4286</td>\n",
       "      <td>0.639405</td>\n",
       "      <td>0.01</td>\n",
       "      <td>5.815193</td>\n",
       "      <td>0.61</td>\n",
       "      <td>23</td>\n",
       "      <td>23</td>\n",
       "      <td>CD8+ Tem_5</td>\n",
       "      <td>CD8+ Tem</td>\n",
       "    </tr>\n",
       "    <tr>\n",
       "      <th>M1-1_AAACAGCCAATTTAGC-1</th>\n",
       "      <td>M1-1</td>\n",
       "      <td>7001</td>\n",
       "      <td>2273</td>\n",
       "      <td>3.528067</td>\n",
       "      <td>0</td>\n",
       "      <td>0</td>\n",
       "      <td>Singlet</td>\n",
       "      <td>Day0</td>\n",
       "      <td>P1</td>\n",
       "      <td>4807</td>\n",
       "      <td>2366</td>\n",
       "      <td>0.961276</td>\n",
       "      <td>0.46</td>\n",
       "      <td>6.466652</td>\n",
       "      <td>0.84</td>\n",
       "      <td>25</td>\n",
       "      <td>25</td>\n",
       "      <td>CD4+ Tcm_3</td>\n",
       "      <td>CD4+ Tcm</td>\n",
       "    </tr>\n",
       "    <tr>\n",
       "      <th>M1-1_AAACAGCCACGTAAGG-1</th>\n",
       "      <td>M1-1</td>\n",
       "      <td>4561</td>\n",
       "      <td>2277</td>\n",
       "      <td>8.463056</td>\n",
       "      <td>3</td>\n",
       "      <td>3</td>\n",
       "      <td>Singlet</td>\n",
       "      <td>Day0</td>\n",
       "      <td>P1</td>\n",
       "      <td>3491</td>\n",
       "      <td>1828</td>\n",
       "      <td>0.948864</td>\n",
       "      <td>0.43</td>\n",
       "      <td>5.516706</td>\n",
       "      <td>0.44</td>\n",
       "      <td>7</td>\n",
       "      <td>7</td>\n",
       "      <td>CD8+ Tem_2</td>\n",
       "      <td>CD8+ Tem</td>\n",
       "    </tr>\n",
       "    <tr>\n",
       "      <th>M1-1_AAACATGCAATCTCTC-1</th>\n",
       "      <td>M1-1</td>\n",
       "      <td>13288</td>\n",
       "      <td>3329</td>\n",
       "      <td>7.909392</td>\n",
       "      <td>8</td>\n",
       "      <td>8</td>\n",
       "      <td>Singlet</td>\n",
       "      <td>Day0</td>\n",
       "      <td>P1</td>\n",
       "      <td>1917</td>\n",
       "      <td>1027</td>\n",
       "      <td>1.617486</td>\n",
       "      <td>0.99</td>\n",
       "      <td>4.368181</td>\n",
       "      <td>0.04</td>\n",
       "      <td>44</td>\n",
       "      <td>3</td>\n",
       "      <td>CD4+ Tcm_1</td>\n",
       "      <td>CD4+ Tcm</td>\n",
       "    </tr>\n",
       "    <tr>\n",
       "      <th>M1-1_AAACATGCAGTAGGAT-1</th>\n",
       "      <td>M1-1</td>\n",
       "      <td>5270</td>\n",
       "      <td>2268</td>\n",
       "      <td>5.920304</td>\n",
       "      <td>4</td>\n",
       "      <td>4</td>\n",
       "      <td>Singlet</td>\n",
       "      <td>Day0</td>\n",
       "      <td>P1</td>\n",
       "      <td>8684</td>\n",
       "      <td>4037</td>\n",
       "      <td>0.837264</td>\n",
       "      <td>0.18</td>\n",
       "      <td>5.237824</td>\n",
       "      <td>0.29</td>\n",
       "      <td>41</td>\n",
       "      <td>24</td>\n",
       "      <td>NK/NKT_3</td>\n",
       "      <td>NK/NKT</td>\n",
       "    </tr>\n",
       "  </tbody>\n",
       "</table>\n",
       "</div>"
      ],
      "text/plain": [
       "                        orig.ident  nCount_RNA  nFeature_RNA  percent.mt  \\\n",
       "M1-1_AAACAGCCAATTGACT-1       M1-1        2926          1528    7.997266   \n",
       "M1-1_AAACAGCCAATTTAGC-1       M1-1        7001          2273    3.528067   \n",
       "M1-1_AAACAGCCACGTAAGG-1       M1-1        4561          2277    8.463056   \n",
       "M1-1_AAACATGCAATCTCTC-1       M1-1       13288          3329    7.909392   \n",
       "M1-1_AAACATGCAGTAGGAT-1       M1-1        5270          2268    5.920304   \n",
       "\n",
       "                         RNA_snn_res.0.3  seurat_clusters   Dlabel Timepoints  \\\n",
       "M1-1_AAACAGCCAATTGACT-1                1                1  Singlet       Day0   \n",
       "M1-1_AAACAGCCAATTTAGC-1                0                0  Singlet       Day0   \n",
       "M1-1_AAACAGCCACGTAAGG-1                3                3  Singlet       Day0   \n",
       "M1-1_AAACATGCAATCTCTC-1                8                8  Singlet       Day0   \n",
       "M1-1_AAACATGCAGTAGGAT-1                4                4  Singlet       Day0   \n",
       "\n",
       "                        Participants  nCount_ATAC  nFeature_ATAC  \\\n",
       "M1-1_AAACAGCCAATTGACT-1           P1         9763           4286   \n",
       "M1-1_AAACAGCCAATTTAGC-1           P1         4807           2366   \n",
       "M1-1_AAACAGCCACGTAAGG-1           P1         3491           1828   \n",
       "M1-1_AAACATGCAATCTCTC-1           P1         1917           1027   \n",
       "M1-1_AAACATGCAGTAGGAT-1           P1         8684           4037   \n",
       "\n",
       "                         nucleosome_signal  nucleosome_percentile  \\\n",
       "M1-1_AAACAGCCAATTGACT-1           0.639405                   0.01   \n",
       "M1-1_AAACAGCCAATTTAGC-1           0.961276                   0.46   \n",
       "M1-1_AAACAGCCACGTAAGG-1           0.948864                   0.43   \n",
       "M1-1_AAACATGCAATCTCTC-1           1.617486                   0.99   \n",
       "M1-1_AAACATGCAGTAGGAT-1           0.837264                   0.18   \n",
       "\n",
       "                         TSS.enrichment  TSS.percentile  n200  n200_k33  \\\n",
       "M1-1_AAACAGCCAATTGACT-1        5.815193            0.61    23        23   \n",
       "M1-1_AAACAGCCAATTTAGC-1        6.466652            0.84    25        25   \n",
       "M1-1_AAACAGCCACGTAAGG-1        5.516706            0.44     7         7   \n",
       "M1-1_AAACATGCAATCTCTC-1        4.368181            0.04    44         3   \n",
       "M1-1_AAACATGCAGTAGGAT-1        5.237824            0.29    41        24   \n",
       "\n",
       "                         annotation  celltype  \n",
       "M1-1_AAACAGCCAATTGACT-1  CD8+ Tem_5  CD8+ Tem  \n",
       "M1-1_AAACAGCCAATTTAGC-1  CD4+ Tcm_3  CD4+ Tcm  \n",
       "M1-1_AAACAGCCACGTAAGG-1  CD8+ Tem_2  CD8+ Tem  \n",
       "M1-1_AAACATGCAATCTCTC-1  CD4+ Tcm_1  CD4+ Tcm  \n",
       "M1-1_AAACATGCAGTAGGAT-1    NK/NKT_3    NK/NKT  "
      ]
     },
     "execution_count": 44,
     "metadata": {},
     "output_type": "execute_result"
    }
   ],
   "source": [
    "annot_path = '/home/huangdingli/sample_metadata.csv'\n",
    "cell_annot = pd.read_csv(annot_path, sep=',', index_col=0)\n",
    "cell_types = np.array(cell_annot['celltype'].tolist())\n",
    "cell_annot.head()"
   ]
  },
  {
   "cell_type": "code",
   "execution_count": 49,
   "id": "477583d8",
   "metadata": {},
   "outputs": [
    {
     "data": {
      "text/html": [
       "<div>\n",
       "<style scoped>\n",
       "    .dataframe tbody tr th:only-of-type {\n",
       "        vertical-align: middle;\n",
       "    }\n",
       "\n",
       "    .dataframe tbody tr th {\n",
       "        vertical-align: top;\n",
       "    }\n",
       "\n",
       "    .dataframe thead th {\n",
       "        text-align: right;\n",
       "    }\n",
       "</style>\n",
       "<table border=\"1\" class=\"dataframe\">\n",
       "  <thead>\n",
       "    <tr style=\"text-align: right;\">\n",
       "      <th></th>\n",
       "    </tr>\n",
       "  </thead>\n",
       "  <tbody>\n",
       "    <tr>\n",
       "      <th>AAAGCGGGTGTTTCAC-1</th>\n",
       "    </tr>\n",
       "    <tr>\n",
       "      <th>AAAGCCCGTGGGAACA-1</th>\n",
       "    </tr>\n",
       "    <tr>\n",
       "      <th>AAACCGCGTTCGGTAA-1</th>\n",
       "    </tr>\n",
       "    <tr>\n",
       "      <th>AAAGCACCACAGCCTG-1</th>\n",
       "    </tr>\n",
       "    <tr>\n",
       "      <th>AAAGCCGCAAATACCT-1</th>\n",
       "    </tr>\n",
       "  </tbody>\n",
       "</table>\n",
       "</div>"
      ],
      "text/plain": [
       "Empty DataFrame\n",
       "Columns: []\n",
       "Index: [AAAGCGGGTGTTTCAC-1, AAAGCCCGTGGGAACA-1, AAACCGCGTTCGGTAA-1, AAAGCACCACAGCCTG-1, AAAGCCGCAAATACCT-1]"
      ]
     },
     "execution_count": 49,
     "metadata": {},
     "output_type": "execute_result"
    }
   ],
   "source": [
    "adata_rna_m1_1.obs.head()"
   ]
  },
  {
   "cell_type": "code",
   "execution_count": 51,
   "id": "20d434f6",
   "metadata": {},
   "outputs": [
    {
     "name": "stdout",
     "output_type": "stream",
     "text": [
      "Filtered out 1000 genes that are detected 10 counts (shared).\n",
      "Normalized count data: X, spliced, unspliced.\n",
      "WARNING: The data might be corrupted. Please verify all annotation datatypes.\n",
      "Skip filtering by dispersion since number of variables are less than `n_top_genes`.\n",
      "Logarithmized X.\n"
     ]
    }
   ],
   "source": [
    "adata_rna_m1_1.var_names_make_unique()\n",
    "sc.pp.filter_cells(adata_rna_m1_1, min_counts=1000)\n",
    "sc.pp.filter_cells(adata_rna_m1_1, max_counts=20000)\n",
    "scv.pp.filter_and_normalize(adata_rna_m1_1, min_shared_counts=10, n_top_genes=1000)"
   ]
  },
  {
   "cell_type": "code",
   "execution_count": 54,
   "id": "df6cdedb",
   "metadata": {},
   "outputs": [],
   "source": [
    "cell_annot = pd.read_csv(annot_path, sep=',', index_col=0)\n",
    "cell_types = np.array(cell_annot['celltype'].tolist())\n",
    "idx_list = cell_annot.index.to_list()\n",
    "idxs = []\n",
    "ct = []\n",
    "for i in range(len(idx_list)):\n",
    "    idx_list[i] = idx_list[i].replace('\\n', '')\n",
    "    id, barcode = idx_list[i].split('_')[0], idx_list[i].split('_')[1]\n",
    "    if target == id:\n",
    "        idxs.append(barcode)\n",
    "        ct.append(cell_types[i])"
   ]
  },
  {
   "cell_type": "code",
   "execution_count": 60,
   "id": "540685e1",
   "metadata": {},
   "outputs": [],
   "source": [
    "cell_annot = pd.DataFrame(ct, index=idxs, columns=['celltype'])\n",
    "adata_rna_m1_1.obs['celltype'] = pd.Series()\n",
    "for idx in adata_rna_m1_1.obs_names:\n",
    "    if idx in idxs:\n",
    "        adata_rna_m1_1.obs['celltype'][idx] = cell_annot['celltype'][idx]\n",
    "        adata_rna_m1_1 = adata_rna_m1_1[adata_rna_m1_1.obs['celltype'].isin(['Naïve B','Plasmablasts/Memory B',' Intermediate B'])]"
   ]
  },
  {
   "cell_type": "code",
   "execution_count": 63,
   "id": "a06b28e5",
   "metadata": {},
   "outputs": [
    {
     "data": {
      "image/png": "[encoded data removed]",
      "text/plain": [
       "<Figure size 600x400 with 1 Axes>"
      ]
     },
     "metadata": {
      "image/png": {
       "height": 348,
       "width": 529
      },
      "needs_background": "light"
     },
     "output_type": "display_data"
    }
   ],
   "source": [
    "plt.hist(adata_atac_m1_1.X.sum(1), bins=100, range=(0, 40000))\n",
    "plt.show()\n",
    "sc.pp.filter_cells(adata_atac_m1_1, min_counts=1500)\n",
    "sc.pp.filter_cells(adata_atac_m1_1, max_counts=25000)"
   ]
  },
  {
   "cell_type": "code",
   "execution_count": 68,
   "id": "762a0a65",
   "metadata": {},
   "outputs": [
    {
     "name": "stdout",
     "output_type": "stream",
     "text": [
      "Normalized count data: X, spliced, unspliced.\n"
     ]
    }
   ],
   "source": [
    "mv.tfidf_norm(adata_atac_m1_1)\n",
    "shared_cells = pd.Index(np.intersect1d(adata_rna_m1_1.obs_names, adata_atac_m1_1.obs_names))\n",
    "shared_genes = pd.Index(np.intersect1d(adata_rna_m1_1.var_names, adata_atac_m1_1.var_names))\n",
    "adata_rna_m1_1 = adata_rna_m1_1[shared_cells, shared_genes]\n",
    "adata_atac_m1_1 = adata_atac_m1_1[shared_cells, shared_genes]\n",
    "\n",
    "scv.pp.normalize_per_cell(adata_rna_m1_1)"
   ]
  },
  {
   "cell_type": "code",
   "execution_count": 70,
   "id": "ffea446f",
   "metadata": {},
   "outputs": [],
   "source": [
    "scv.pp.log1p(adata_rna_m1_1)"
   ]
  },
  {
   "cell_type": "code",
   "execution_count": 72,
   "id": "c08df757",
   "metadata": {},
   "outputs": [
    {
     "name": "stdout",
     "output_type": "stream",
     "text": [
      "Normalized count data: X, spliced, unspliced.\n",
      "computing neighbors\n"
     ]
    },
    {
     "ename": "ValueError",
     "evalue": "Found array with 0 sample(s) (shape=(0, 0)) while a minimum of 1 is required by check_pairwise_arrays.",
     "output_type": "error",
     "traceback": [
      "\u001b[0;31m---------------------------------------------------------------------------\u001b[0m",
      "\u001b[0;31mValueError\u001b[0m                                Traceback (most recent call last)",
      "Input \u001b[0;32mIn [72]\u001b[0m, in \u001b[0;36m<cell line: 1>\u001b[0;34m()\u001b[0m\n\u001b[0;32m----> 1\u001b[0m \u001b[43mscv\u001b[49m\u001b[38;5;241;43m.\u001b[39;49m\u001b[43mpp\u001b[49m\u001b[38;5;241;43m.\u001b[39;49m\u001b[43mmoments\u001b[49m\u001b[43m(\u001b[49m\u001b[43madata_rna_m1_1\u001b[49m\u001b[43m,\u001b[49m\u001b[43m \u001b[49m\u001b[43mn_pcs\u001b[49m\u001b[38;5;241;43m=\u001b[39;49m\u001b[38;5;241;43m30\u001b[39;49m\u001b[43m,\u001b[49m\u001b[43m \u001b[49m\u001b[43mn_neighbors\u001b[49m\u001b[38;5;241;43m=\u001b[39;49m\u001b[38;5;241;43m50\u001b[39;49m\u001b[43m)\u001b[49m\n",
      "File \u001b[0;32m/usr/local/lib/python3.8/dist-packages/scvelo/preprocessing/moments.py:64\u001b[0m, in \u001b[0;36mmoments\u001b[0;34m(data, n_neighbors, n_pcs, mode, method, use_rep, use_highly_variable, copy)\u001b[0m\n\u001b[1;32m     61\u001b[0m     normalize_per_cell(adata)\n\u001b[1;32m     63\u001b[0m \u001b[38;5;28;01mif\u001b[39;00m n_neighbors \u001b[38;5;129;01mis\u001b[39;00m \u001b[38;5;129;01mnot\u001b[39;00m \u001b[38;5;28;01mNone\u001b[39;00m \u001b[38;5;129;01mand\u001b[39;00m n_neighbors \u001b[38;5;241m>\u001b[39m get_n_neighs(adata):\n\u001b[0;32m---> 64\u001b[0m     \u001b[43mneighbors\u001b[49m\u001b[43m(\u001b[49m\n\u001b[1;32m     65\u001b[0m \u001b[43m        \u001b[49m\u001b[43madata\u001b[49m\u001b[43m,\u001b[49m\n\u001b[1;32m     66\u001b[0m \u001b[43m        \u001b[49m\u001b[43mn_neighbors\u001b[49m\u001b[38;5;241;43m=\u001b[39;49m\u001b[43mn_neighbors\u001b[49m\u001b[43m,\u001b[49m\n\u001b[1;32m     67\u001b[0m \u001b[43m        \u001b[49m\u001b[43muse_rep\u001b[49m\u001b[38;5;241;43m=\u001b[39;49m\u001b[43muse_rep\u001b[49m\u001b[43m,\u001b[49m\n\u001b[1;32m     68\u001b[0m \u001b[43m        \u001b[49m\u001b[43muse_highly_variable\u001b[49m\u001b[38;5;241;43m=\u001b[39;49m\u001b[43muse_highly_variable\u001b[49m\u001b[43m,\u001b[49m\n\u001b[1;32m     69\u001b[0m \u001b[43m        \u001b[49m\u001b[43mn_pcs\u001b[49m\u001b[38;5;241;43m=\u001b[39;49m\u001b[43mn_pcs\u001b[49m\u001b[43m,\u001b[49m\n\u001b[1;32m     70\u001b[0m \u001b[43m        \u001b[49m\u001b[43mmethod\u001b[49m\u001b[38;5;241;43m=\u001b[39;49m\u001b[43mmethod\u001b[49m\u001b[43m,\u001b[49m\n\u001b[1;32m     71\u001b[0m \u001b[43m    \u001b[49m\u001b[43m)\u001b[49m\n\u001b[1;32m     72\u001b[0m verify_neighbors(adata)\n\u001b[1;32m     74\u001b[0m \u001b[38;5;28;01mif\u001b[39;00m \u001b[38;5;124m\"\u001b[39m\u001b[38;5;124mspliced\u001b[39m\u001b[38;5;124m\"\u001b[39m \u001b[38;5;129;01mnot\u001b[39;00m \u001b[38;5;129;01min\u001b[39;00m adata\u001b[38;5;241m.\u001b[39mlayers\u001b[38;5;241m.\u001b[39mkeys() \u001b[38;5;129;01mor\u001b[39;00m \u001b[38;5;124m\"\u001b[39m\u001b[38;5;124munspliced\u001b[39m\u001b[38;5;124m\"\u001b[39m \u001b[38;5;129;01mnot\u001b[39;00m \u001b[38;5;129;01min\u001b[39;00m adata\u001b[38;5;241m.\u001b[39mlayers\u001b[38;5;241m.\u001b[39mkeys():\n",
      "File \u001b[0;32m/usr/local/lib/python3.8/dist-packages/scvelo/preprocessing/neighbors.py:167\u001b[0m, in \u001b[0;36mneighbors\u001b[0;34m(adata, n_neighbors, n_pcs, use_rep, use_highly_variable, knn, random_state, method, metric, metric_kwds, num_threads, copy)\u001b[0m\n\u001b[1;32m    165\u001b[0m         warnings\u001b[38;5;241m.\u001b[39msimplefilter(\u001b[38;5;124m\"\u001b[39m\u001b[38;5;124mignore\u001b[39m\u001b[38;5;124m\"\u001b[39m)\n\u001b[1;32m    166\u001b[0m         neighbors \u001b[38;5;241m=\u001b[39m Neighbors(adata)\n\u001b[0;32m--> 167\u001b[0m         \u001b[43mneighbors\u001b[49m\u001b[38;5;241;43m.\u001b[39;49m\u001b[43mcompute_neighbors\u001b[49m\u001b[43m(\u001b[49m\n\u001b[1;32m    168\u001b[0m \u001b[43m            \u001b[49m\u001b[43mn_neighbors\u001b[49m\u001b[38;5;241;43m=\u001b[39;49m\u001b[43mn_neighbors\u001b[49m\u001b[43m,\u001b[49m\n\u001b[1;32m    169\u001b[0m \u001b[43m            \u001b[49m\u001b[43mknn\u001b[49m\u001b[38;5;241;43m=\u001b[39;49m\u001b[43mknn\u001b[49m\u001b[43m,\u001b[49m\n\u001b[1;32m    170\u001b[0m \u001b[43m            \u001b[49m\u001b[43mn_pcs\u001b[49m\u001b[38;5;241;43m=\u001b[39;49m\u001b[43mn_pcs\u001b[49m\u001b[43m,\u001b[49m\n\u001b[1;32m    171\u001b[0m \u001b[43m            \u001b[49m\u001b[43mmethod\u001b[49m\u001b[38;5;241;43m=\u001b[39;49m\u001b[43mmethod\u001b[49m\u001b[43m,\u001b[49m\n\u001b[1;32m    172\u001b[0m \u001b[43m            \u001b[49m\u001b[43muse_rep\u001b[49m\u001b[38;5;241;43m=\u001b[39;49m\u001b[43muse_rep\u001b[49m\u001b[43m,\u001b[49m\n\u001b[1;32m    173\u001b[0m \u001b[43m            \u001b[49m\u001b[43mrandom_state\u001b[49m\u001b[38;5;241;43m=\u001b[39;49m\u001b[43mrandom_state\u001b[49m\u001b[43m,\u001b[49m\n\u001b[1;32m    174\u001b[0m \u001b[43m            \u001b[49m\u001b[43mmetric\u001b[49m\u001b[38;5;241;43m=\u001b[39;49m\u001b[43mmetric\u001b[49m\u001b[43m,\u001b[49m\n\u001b[1;32m    175\u001b[0m \u001b[43m            \u001b[49m\u001b[43mmetric_kwds\u001b[49m\u001b[38;5;241;43m=\u001b[39;49m\u001b[43mmetric_kwds\u001b[49m\u001b[43m,\u001b[49m\n\u001b[1;32m    176\u001b[0m \u001b[43m            \u001b[49m\u001b[43mwrite_knn_indices\u001b[49m\u001b[38;5;241;43m=\u001b[39;49m\u001b[38;5;28;43;01mTrue\u001b[39;49;00m\u001b[43m,\u001b[49m\n\u001b[1;32m    177\u001b[0m \u001b[43m        \u001b[49m\u001b[43m)\u001b[49m\n\u001b[1;32m    178\u001b[0m     logg\u001b[38;5;241m.\u001b[39mswitch_verbosity(\u001b[38;5;124m\"\u001b[39m\u001b[38;5;124mon\u001b[39m\u001b[38;5;124m\"\u001b[39m, module\u001b[38;5;241m=\u001b[39m\u001b[38;5;124m\"\u001b[39m\u001b[38;5;124mscanpy\u001b[39m\u001b[38;5;124m\"\u001b[39m)\n\u001b[1;32m    180\u001b[0m adata\u001b[38;5;241m.\u001b[39muns[\u001b[38;5;124m\"\u001b[39m\u001b[38;5;124mneighbors\u001b[39m\u001b[38;5;124m\"\u001b[39m] \u001b[38;5;241m=\u001b[39m {}\n",
      "File \u001b[0;32m/usr/local/lib/python3.8/dist-packages/scanpy/neighbors/__init__.py:775\u001b[0m, in \u001b[0;36mNeighbors.compute_neighbors\u001b[0;34m(self, n_neighbors, knn, n_pcs, use_rep, method, random_state, write_knn_indices, metric, metric_kwds)\u001b[0m\n\u001b[1;32m    773\u001b[0m use_dense_distances \u001b[38;5;241m=\u001b[39m (metric \u001b[38;5;241m==\u001b[39m \u001b[38;5;124m'\u001b[39m\u001b[38;5;124meuclidean\u001b[39m\u001b[38;5;124m'\u001b[39m \u001b[38;5;129;01mand\u001b[39;00m X\u001b[38;5;241m.\u001b[39mshape[\u001b[38;5;241m0\u001b[39m] \u001b[38;5;241m<\u001b[39m \u001b[38;5;241m8192\u001b[39m) \u001b[38;5;129;01mor\u001b[39;00m \u001b[38;5;129;01mnot\u001b[39;00m knn\n\u001b[1;32m    774\u001b[0m \u001b[38;5;28;01mif\u001b[39;00m use_dense_distances:\n\u001b[0;32m--> 775\u001b[0m     _distances \u001b[38;5;241m=\u001b[39m \u001b[43mpairwise_distances\u001b[49m\u001b[43m(\u001b[49m\u001b[43mX\u001b[49m\u001b[43m,\u001b[49m\u001b[43m \u001b[49m\u001b[43mmetric\u001b[49m\u001b[38;5;241;43m=\u001b[39;49m\u001b[43mmetric\u001b[49m\u001b[43m,\u001b[49m\u001b[43m \u001b[49m\u001b[38;5;241;43m*\u001b[39;49m\u001b[38;5;241;43m*\u001b[39;49m\u001b[43mmetric_kwds\u001b[49m\u001b[43m)\u001b[49m\n\u001b[1;32m    776\u001b[0m     knn_indices, knn_distances \u001b[38;5;241m=\u001b[39m _get_indices_distances_from_dense_matrix(\n\u001b[1;32m    777\u001b[0m         _distances, n_neighbors\n\u001b[1;32m    778\u001b[0m     )\n\u001b[1;32m    779\u001b[0m     \u001b[38;5;28;01mif\u001b[39;00m knn:\n",
      "File \u001b[0;32m/usr/local/lib/python3.8/dist-packages/sklearn/metrics/pairwise.py:2022\u001b[0m, in \u001b[0;36mpairwise_distances\u001b[0;34m(X, Y, metric, n_jobs, force_all_finite, **kwds)\u001b[0m\n\u001b[1;32m   2019\u001b[0m         \u001b[38;5;28;01mreturn\u001b[39;00m distance\u001b[38;5;241m.\u001b[39msquareform(distance\u001b[38;5;241m.\u001b[39mpdist(X, metric\u001b[38;5;241m=\u001b[39mmetric, \u001b[38;5;241m*\u001b[39m\u001b[38;5;241m*\u001b[39mkwds))\n\u001b[1;32m   2020\u001b[0m     func \u001b[38;5;241m=\u001b[39m partial(distance\u001b[38;5;241m.\u001b[39mcdist, metric\u001b[38;5;241m=\u001b[39mmetric, \u001b[38;5;241m*\u001b[39m\u001b[38;5;241m*\u001b[39mkwds)\n\u001b[0;32m-> 2022\u001b[0m \u001b[38;5;28;01mreturn\u001b[39;00m \u001b[43m_parallel_pairwise\u001b[49m\u001b[43m(\u001b[49m\u001b[43mX\u001b[49m\u001b[43m,\u001b[49m\u001b[43m \u001b[49m\u001b[43mY\u001b[49m\u001b[43m,\u001b[49m\u001b[43m \u001b[49m\u001b[43mfunc\u001b[49m\u001b[43m,\u001b[49m\u001b[43m \u001b[49m\u001b[43mn_jobs\u001b[49m\u001b[43m,\u001b[49m\u001b[43m \u001b[49m\u001b[38;5;241;43m*\u001b[39;49m\u001b[38;5;241;43m*\u001b[39;49m\u001b[43mkwds\u001b[49m\u001b[43m)\u001b[49m\n",
      "File \u001b[0;32m/usr/local/lib/python3.8/dist-packages/sklearn/metrics/pairwise.py:1563\u001b[0m, in \u001b[0;36m_parallel_pairwise\u001b[0;34m(X, Y, func, n_jobs, **kwds)\u001b[0m\n\u001b[1;32m   1560\u001b[0m X, Y, dtype \u001b[38;5;241m=\u001b[39m _return_float_dtype(X, Y)\n\u001b[1;32m   1562\u001b[0m \u001b[38;5;28;01mif\u001b[39;00m effective_n_jobs(n_jobs) \u001b[38;5;241m==\u001b[39m \u001b[38;5;241m1\u001b[39m:\n\u001b[0;32m-> 1563\u001b[0m     \u001b[38;5;28;01mreturn\u001b[39;00m \u001b[43mfunc\u001b[49m\u001b[43m(\u001b[49m\u001b[43mX\u001b[49m\u001b[43m,\u001b[49m\u001b[43m \u001b[49m\u001b[43mY\u001b[49m\u001b[43m,\u001b[49m\u001b[43m \u001b[49m\u001b[38;5;241;43m*\u001b[39;49m\u001b[38;5;241;43m*\u001b[39;49m\u001b[43mkwds\u001b[49m\u001b[43m)\u001b[49m\n\u001b[1;32m   1565\u001b[0m \u001b[38;5;66;03m# enforce a threading backend to prevent data communication overhead\u001b[39;00m\n\u001b[1;32m   1566\u001b[0m fd \u001b[38;5;241m=\u001b[39m delayed(_dist_wrapper)\n",
      "File \u001b[0;32m/usr/local/lib/python3.8/dist-packages/sklearn/metrics/pairwise.py:300\u001b[0m, in \u001b[0;36meuclidean_distances\u001b[0;34m(X, Y, Y_norm_squared, squared, X_norm_squared)\u001b[0m\n\u001b[1;32m    224\u001b[0m \u001b[38;5;28;01mdef\u001b[39;00m \u001b[38;5;21meuclidean_distances\u001b[39m(\n\u001b[1;32m    225\u001b[0m     X, Y\u001b[38;5;241m=\u001b[39m\u001b[38;5;28;01mNone\u001b[39;00m, \u001b[38;5;241m*\u001b[39m, Y_norm_squared\u001b[38;5;241m=\u001b[39m\u001b[38;5;28;01mNone\u001b[39;00m, squared\u001b[38;5;241m=\u001b[39m\u001b[38;5;28;01mFalse\u001b[39;00m, X_norm_squared\u001b[38;5;241m=\u001b[39m\u001b[38;5;28;01mNone\u001b[39;00m\n\u001b[1;32m    226\u001b[0m ):\n\u001b[1;32m    227\u001b[0m     \u001b[38;5;124;03m\"\"\"\u001b[39;00m\n\u001b[1;32m    228\u001b[0m \u001b[38;5;124;03m    Compute the distance matrix between each pair from a vector array X and Y.\u001b[39;00m\n\u001b[1;32m    229\u001b[0m \n\u001b[0;32m   (...)\u001b[0m\n\u001b[1;32m    298\u001b[0m \u001b[38;5;124;03m           [1.41421356]])\u001b[39;00m\n\u001b[1;32m    299\u001b[0m \u001b[38;5;124;03m    \"\"\"\u001b[39;00m\n\u001b[0;32m--> 300\u001b[0m     X, Y \u001b[38;5;241m=\u001b[39m \u001b[43mcheck_pairwise_arrays\u001b[49m\u001b[43m(\u001b[49m\u001b[43mX\u001b[49m\u001b[43m,\u001b[49m\u001b[43m \u001b[49m\u001b[43mY\u001b[49m\u001b[43m)\u001b[49m\n\u001b[1;32m    302\u001b[0m     \u001b[38;5;28;01mif\u001b[39;00m X_norm_squared \u001b[38;5;129;01mis\u001b[39;00m \u001b[38;5;129;01mnot\u001b[39;00m \u001b[38;5;28;01mNone\u001b[39;00m:\n\u001b[1;32m    303\u001b[0m         X_norm_squared \u001b[38;5;241m=\u001b[39m check_array(X_norm_squared, ensure_2d\u001b[38;5;241m=\u001b[39m\u001b[38;5;28;01mFalse\u001b[39;00m)\n",
      "File \u001b[0;32m/usr/local/lib/python3.8/dist-packages/sklearn/metrics/pairwise.py:146\u001b[0m, in \u001b[0;36mcheck_pairwise_arrays\u001b[0;34m(X, Y, precomputed, dtype, accept_sparse, force_all_finite, copy)\u001b[0m\n\u001b[1;32m    143\u001b[0m     dtype \u001b[38;5;241m=\u001b[39m dtype_float\n\u001b[1;32m    145\u001b[0m \u001b[38;5;28;01mif\u001b[39;00m Y \u001b[38;5;129;01mis\u001b[39;00m X \u001b[38;5;129;01mor\u001b[39;00m Y \u001b[38;5;129;01mis\u001b[39;00m \u001b[38;5;28;01mNone\u001b[39;00m:\n\u001b[0;32m--> 146\u001b[0m     X \u001b[38;5;241m=\u001b[39m Y \u001b[38;5;241m=\u001b[39m \u001b[43mcheck_array\u001b[49m\u001b[43m(\u001b[49m\n\u001b[1;32m    147\u001b[0m \u001b[43m        \u001b[49m\u001b[43mX\u001b[49m\u001b[43m,\u001b[49m\n\u001b[1;32m    148\u001b[0m \u001b[43m        \u001b[49m\u001b[43maccept_sparse\u001b[49m\u001b[38;5;241;43m=\u001b[39;49m\u001b[43maccept_sparse\u001b[49m\u001b[43m,\u001b[49m\n\u001b[1;32m    149\u001b[0m \u001b[43m        \u001b[49m\u001b[43mdtype\u001b[49m\u001b[38;5;241;43m=\u001b[39;49m\u001b[43mdtype\u001b[49m\u001b[43m,\u001b[49m\n\u001b[1;32m    150\u001b[0m \u001b[43m        \u001b[49m\u001b[43mcopy\u001b[49m\u001b[38;5;241;43m=\u001b[39;49m\u001b[43mcopy\u001b[49m\u001b[43m,\u001b[49m\n\u001b[1;32m    151\u001b[0m \u001b[43m        \u001b[49m\u001b[43mforce_all_finite\u001b[49m\u001b[38;5;241;43m=\u001b[39;49m\u001b[43mforce_all_finite\u001b[49m\u001b[43m,\u001b[49m\n\u001b[1;32m    152\u001b[0m \u001b[43m        \u001b[49m\u001b[43mestimator\u001b[49m\u001b[38;5;241;43m=\u001b[39;49m\u001b[43mestimator\u001b[49m\u001b[43m,\u001b[49m\n\u001b[1;32m    153\u001b[0m \u001b[43m    \u001b[49m\u001b[43m)\u001b[49m\n\u001b[1;32m    154\u001b[0m \u001b[38;5;28;01melse\u001b[39;00m:\n\u001b[1;32m    155\u001b[0m     X \u001b[38;5;241m=\u001b[39m check_array(\n\u001b[1;32m    156\u001b[0m         X,\n\u001b[1;32m    157\u001b[0m         accept_sparse\u001b[38;5;241m=\u001b[39maccept_sparse,\n\u001b[0;32m   (...)\u001b[0m\n\u001b[1;32m    161\u001b[0m         estimator\u001b[38;5;241m=\u001b[39mestimator,\n\u001b[1;32m    162\u001b[0m     )\n",
      "File \u001b[0;32m/usr/local/lib/python3.8/dist-packages/sklearn/utils/validation.py:909\u001b[0m, in \u001b[0;36mcheck_array\u001b[0;34m(array, accept_sparse, accept_large_sparse, dtype, order, copy, force_all_finite, ensure_2d, allow_nd, ensure_min_samples, ensure_min_features, estimator, input_name)\u001b[0m\n\u001b[1;32m    907\u001b[0m     n_samples \u001b[38;5;241m=\u001b[39m _num_samples(array)\n\u001b[1;32m    908\u001b[0m     \u001b[38;5;28;01mif\u001b[39;00m n_samples \u001b[38;5;241m<\u001b[39m ensure_min_samples:\n\u001b[0;32m--> 909\u001b[0m         \u001b[38;5;28;01mraise\u001b[39;00m \u001b[38;5;167;01mValueError\u001b[39;00m(\n\u001b[1;32m    910\u001b[0m             \u001b[38;5;124m\"\u001b[39m\u001b[38;5;124mFound array with \u001b[39m\u001b[38;5;132;01m%d\u001b[39;00m\u001b[38;5;124m sample(s) (shape=\u001b[39m\u001b[38;5;132;01m%s\u001b[39;00m\u001b[38;5;124m) while a\u001b[39m\u001b[38;5;124m\"\u001b[39m\n\u001b[1;32m    911\u001b[0m             \u001b[38;5;124m\"\u001b[39m\u001b[38;5;124m minimum of \u001b[39m\u001b[38;5;132;01m%d\u001b[39;00m\u001b[38;5;124m is required\u001b[39m\u001b[38;5;132;01m%s\u001b[39;00m\u001b[38;5;124m.\u001b[39m\u001b[38;5;124m\"\u001b[39m\n\u001b[1;32m    912\u001b[0m             \u001b[38;5;241m%\u001b[39m (n_samples, array\u001b[38;5;241m.\u001b[39mshape, ensure_min_samples, context)\n\u001b[1;32m    913\u001b[0m         )\n\u001b[1;32m    915\u001b[0m \u001b[38;5;28;01mif\u001b[39;00m ensure_min_features \u001b[38;5;241m>\u001b[39m \u001b[38;5;241m0\u001b[39m \u001b[38;5;129;01mand\u001b[39;00m array\u001b[38;5;241m.\u001b[39mndim \u001b[38;5;241m==\u001b[39m \u001b[38;5;241m2\u001b[39m:\n\u001b[1;32m    916\u001b[0m     n_features \u001b[38;5;241m=\u001b[39m array\u001b[38;5;241m.\u001b[39mshape[\u001b[38;5;241m1\u001b[39m]\n",
      "\u001b[0;31mValueError\u001b[0m: Found array with 0 sample(s) (shape=(0, 0)) while a minimum of 1 is required by check_pairwise_arrays."
     ]
    }
   ],
   "source": [
    "scv.pp.moments(adata_rna_m1_1, n_pcs=30, n_neighbors=50)"
   ]
  },
  {
   "cell_type": "code",
   "execution_count": 77,
   "id": "34dd69f5",
   "metadata": {},
   "outputs": [],
   "source": [
    "target = 'M1-1'"
   ]
  },
  {
   "cell_type": "code",
   "execution_count": 79,
   "id": "efca608b",
   "metadata": {},
   "outputs": [
    {
     "name": "stdout",
     "output_type": "stream",
     "text": [
      "Filtered out 29121 genes that are detected 10 counts (shared).\n",
      "Normalized count data: X, spliced, unspliced.\n",
      "Extracted 1000 highly variable genes.\n",
      "Logarithmized X.\n",
      "CellRanger ARC identified as 2.0.0\n",
      "Found 19234 genes with promoter peaks\n"
     ]
    },
    {
     "data": {
      "application/json": {
       "ascii": false,
       "bar_format": null,
       "colour": null,
       "elapsed": 0.011565685272216797,
       "initial": 0,
       "n": 0,
       "ncols": null,
       "nrows": null,
       "postfix": null,
       "prefix": "",
       "rate": null,
       "total": 19234,
       "unit": "it",
       "unit_divisor": 1000,
       "unit_scale": false
      },
      "application/vnd.jupyter.widget-view+json": {
       "model_id": "1b6d9ac7c10e4442b1f0bd2bc649152d",
       "version_major": 2,
       "version_minor": 0
      },
      "text/plain": [
       "  0%|          | 0/19234 [00:00<?, ?it/s]"
      ]
     },
     "metadata": {},
     "output_type": "display_data"
    },
    {
     "ename": "KeyboardInterrupt",
     "evalue": "",
     "output_type": "error",
     "traceback": [
      "\u001b[0;31m---------------------------------------------------------------------------\u001b[0m",
      "\u001b[0;31mKeyboardInterrupt\u001b[0m                         Traceback (most recent call last)",
      "Input \u001b[0;32mIn [79]\u001b[0m, in \u001b[0;36m<cell line: 36>\u001b[0;34m()\u001b[0m\n\u001b[1;32m     32\u001b[0m adata_atac \u001b[38;5;241m=\u001b[39m sc\u001b[38;5;241m.\u001b[39mread_10x_mtx(atac_path,\n\u001b[1;32m     33\u001b[0m                              var_names\u001b[38;5;241m=\u001b[39m\u001b[38;5;124m'\u001b[39m\u001b[38;5;124mgene_symbols\u001b[39m\u001b[38;5;124m'\u001b[39m,\n\u001b[1;32m     34\u001b[0m                              cache\u001b[38;5;241m=\u001b[39m\u001b[38;5;28;01mTrue\u001b[39;00m, gex_only\u001b[38;5;241m=\u001b[39m\u001b[38;5;28;01mFalse\u001b[39;00m)\n\u001b[1;32m     35\u001b[0m adata_atac \u001b[38;5;241m=\u001b[39m adata_atac[:, adata_atac\u001b[38;5;241m.\u001b[39mvar[\u001b[38;5;124m'\u001b[39m\u001b[38;5;124mfeature_types\u001b[39m\u001b[38;5;124m'\u001b[39m] \u001b[38;5;241m==\u001b[39m \u001b[38;5;124m\"\u001b[39m\u001b[38;5;124mPeaks\u001b[39m\u001b[38;5;124m\"\u001b[39m]\n\u001b[0;32m---> 36\u001b[0m adata_atac \u001b[38;5;241m=\u001b[39m \u001b[43mmv\u001b[49m\u001b[38;5;241;43m.\u001b[39;49m\u001b[43maggregate_peaks_10x\u001b[49m\u001b[43m(\u001b[49m\u001b[43madata_atac\u001b[49m\u001b[43m,\u001b[49m\n\u001b[1;32m     37\u001b[0m \u001b[43m                                    \u001b[49m\u001b[43matac_annot_path\u001b[49m\u001b[43m,\u001b[49m\n\u001b[1;32m     38\u001b[0m \u001b[43m                                    \u001b[49m\u001b[43mfeature_linkage_path\u001b[49m\u001b[43m,\u001b[49m\n\u001b[1;32m     39\u001b[0m \u001b[43m                                    \u001b[49m\u001b[43mverbose\u001b[49m\u001b[38;5;241;43m=\u001b[39;49m\u001b[38;5;28;43;01mTrue\u001b[39;49;00m\u001b[43m)\u001b[49m\n\u001b[1;32m     40\u001b[0m plt\u001b[38;5;241m.\u001b[39mhist(adata_atac\u001b[38;5;241m.\u001b[39mX\u001b[38;5;241m.\u001b[39msum(\u001b[38;5;241m1\u001b[39m), bins\u001b[38;5;241m=\u001b[39m\u001b[38;5;241m100\u001b[39m, \u001b[38;5;28mrange\u001b[39m\u001b[38;5;241m=\u001b[39m(\u001b[38;5;241m0\u001b[39m, \u001b[38;5;241m40000\u001b[39m))\n\u001b[1;32m     41\u001b[0m plt\u001b[38;5;241m.\u001b[39mshow()\n",
      "File \u001b[0;32m/usr/local/lib/python3.8/dist-packages/multivelo/auxiliary.py:213\u001b[0m, in \u001b[0;36maggregate_peaks_10x\u001b[0;34m(adata_atac, peak_annot_file, linkage_file, peak_dist, min_corr, gene_body, return_dict, verbose)\u001b[0m\n\u001b[1;32m    211\u001b[0m         \u001b[38;5;28;01mif\u001b[39;00m peak \u001b[38;5;129;01min\u001b[39;00m var_names:\n\u001b[1;32m    212\u001b[0m             peak_index \u001b[38;5;241m=\u001b[39m np\u001b[38;5;241m.\u001b[39mwhere(var_names \u001b[38;5;241m==\u001b[39m peak)[\u001b[38;5;241m0\u001b[39m][\u001b[38;5;241m0\u001b[39m]\n\u001b[0;32m--> 213\u001b[0m             gene_mat[:,i] \u001b[38;5;241m+\u001b[39m\u001b[38;5;241m=\u001b[39m adata_atac_X_copy[:,peak_index]\n\u001b[1;32m    214\u001b[0m gene_mat[gene_mat \u001b[38;5;241m<\u001b[39m \u001b[38;5;241m0\u001b[39m] \u001b[38;5;241m=\u001b[39m \u001b[38;5;241m0\u001b[39m\n\u001b[1;32m    215\u001b[0m gene_mat \u001b[38;5;241m=\u001b[39m AnnData(X\u001b[38;5;241m=\u001b[39mcsr_matrix(gene_mat))\n",
      "\u001b[0;31mKeyboardInterrupt\u001b[0m: "
     ]
    }
   ],
   "source": [
    "adata_rna = scv.read(loom_path, cache=True)\n",
    "adata_rna.obs_names = [x.split(':')[1][:-1] + '-1' for x in adata_rna.obs_names]  # 将barcode去掉前缀，加上'-1'后缀\n",
    "adata_rna.var_names_make_unique()\n",
    "sc.pp.filter_cells(adata_rna, min_counts=1000)\n",
    "sc.pp.filter_cells(adata_rna, max_counts=20000)\n",
    "scv.pp.filter_and_normalize(adata_rna, min_shared_counts=10, n_top_genes=1000)  # layer error\n",
    "\n",
    "cell_annot = pd.read_csv(annot_path, sep=',', index_col=0)\n",
    "cell_types = np.array(cell_annot['celltype'].tolist())\n",
    "idx_list = cell_annot.index.to_list()\n",
    "idxs = []\n",
    "ct = []\n",
    "for i in range(len(idx_list)):\n",
    "    idx_list[i] = idx_list[i].replace('\\n', '')\n",
    "    id, barcode = idx_list[i].split('_')[0], idx_list[i].split('_')[1]\n",
    "    if target == id:\n",
    "        idxs.append(barcode)\n",
    "        ct.append(cell_types[i])\n",
    "\n",
    "cell_annot = pd.DataFrame(ct, index=idxs, columns=['celltype'])\n",
    "\n",
    "adata_rna.obs['celltype'] = pd.Series()\n",
    "for idx in adata_rna.obs_names:\n",
    "    if idx in idxs:\n",
    "        adata_rna.obs['celltype'][idx] = cell_annot['celltype'][idx]\n",
    "\n",
    "adata_rna = adata_rna[adata_rna.obs['celltype'].isin(['Naïve B','Plasmablasts/Memory B',' Intermediate B'])]\n",
    "\n",
    "\n",
    "\n",
    "\n",
    "adata_atac = sc.read_10x_mtx(atac_path,\n",
    "                             var_names='gene_symbols',\n",
    "                             cache=True, gex_only=False)\n",
    "adata_atac = adata_atac[:, adata_atac.var['feature_types'] == \"Peaks\"]\n",
    "adata_atac = mv.aggregate_peaks_10x(adata_atac,\n",
    "                                    atac_annot_path,\n",
    "                                    feature_linkage_path,\n",
    "                                    verbose=True)\n",
    "plt.hist(adata_atac.X.sum(1), bins=100, range=(0, 40000))\n",
    "plt.show()\n",
    "sc.pp.filter_cells(adata_atac, min_counts=1500)\n",
    "sc.pp.filter_cells(adata_atac, max_counts=25000)\n",
    "\n",
    "\n",
    "\n",
    "# We normalize aggregated peaks with TF-IDF.\n",
    "mv.tfidf_norm(adata_atac)\n",
    "\n",
    "# ## 在RNA和ATAC之间找到相同的barcodes\n",
    "shared_cells = pd.Index(np.intersect1d(adata_rna.obs_names, adata_atac.obs_names))\n",
    "shared_genes = pd.Index(np.intersect1d(adata_rna.var_names, adata_atac.var_names))\n",
    "\n",
    "\n",
    "adata_rna = adata_rna[shared_cells, shared_genes]\n",
    "adata_atac = adata_atac[shared_cells, shared_genes]\n",
    "\n",
    "scv.pp.normalize_per_cell(adata_rna)\n",
    "scv.pp.log1p(adata_rna)\n",
    "scv.pp.moments(adata_rna, n_pcs=30, n_neighbors=50)\n",
    "\n",
    "adata_rna.obs['celltype'] = cell_annot.loc[adata_rna.obs_names, 'celltype']\n",
    "adata_rna.obs['celltype'] = adata_rna.obs['celltype'].astype('category')\n",
    "\n",
    "all_clusters = [['Naïve B','Plasmablasts/Memory B',' Intermediate B']]\n",
    "adata_rna.obs['celltype'] = adata_rna.obs['celltype'].cat.reorder_categories(all_clusters)\n",
    "scv.tl.umap(adata_rna)\n",
    "scv.pl.umap(adata_rna, color='celltype')"
   ]
  },
  {
   "cell_type": "code",
   "execution_count": null,
   "id": "e482d363",
   "metadata": {},
   "outputs": [],
   "source": [
    "adata_rna"
   ]
  }
 ],
 "metadata": {
  "kernelspec": {
   "display_name": "Python 3 (ipykernel)",
   "language": "python",
   "name": "python3"
  },
  "language_info": {
   "codemirror_mode": {
    "name": "ipython",
    "version": 3
   },
   "file_extension": ".py",
   "mimetype": "text/x-python",
   "name": "python",
   "nbconvert_exporter": "python",
   "pygments_lexer": "ipython3",
   "version": "3.8.10"
  }
 },
 "nbformat": 4,
 "nbformat_minor": 5
}
